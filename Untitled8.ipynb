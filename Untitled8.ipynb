{
  "nbformat": 4,
  "nbformat_minor": 0,
  "metadata": {
    "colab": {
      "provenance": [],
      "authorship_tag": "ABX9TyPNtxcenCvAFxUXSYYKa+0z",
      "include_colab_link": true
    },
    "kernelspec": {
      "name": "python3",
      "display_name": "Python 3"
    },
    "language_info": {
      "name": "python"
    }
  },
  "cells": [
    {
      "cell_type": "markdown",
      "metadata": {
        "id": "view-in-github",
        "colab_type": "text"
      },
      "source": [
        "<a href=\"https://colab.research.google.com/github/ViniciusCreator/EngenhariaMecanica/blob/main/Untitled8.ipynb\" target=\"_parent\"><img src=\"https://colab.research.google.com/assets/colab-badge.svg\" alt=\"Open In Colab\"/></a>"
      ]
    },
    {
      "cell_type": "code",
      "source": [
        "pip install pandas"
      ],
      "metadata": {
        "colab": {
          "base_uri": "https://localhost:8080/"
        },
        "id": "R-Wnlf65xP6L",
        "outputId": "2f1cbb1d-111b-4401-c7fe-d891684f1ab7"
      },
      "execution_count": 3,
      "outputs": [
        {
          "output_type": "stream",
          "name": "stdout",
          "text": [
            "Requirement already satisfied: pandas in /usr/local/lib/python3.10/dist-packages (2.2.2)\n",
            "Requirement already satisfied: numpy>=1.22.4 in /usr/local/lib/python3.10/dist-packages (from pandas) (1.26.4)\n",
            "Requirement already satisfied: python-dateutil>=2.8.2 in /usr/local/lib/python3.10/dist-packages (from pandas) (2.8.2)\n",
            "Requirement already satisfied: pytz>=2020.1 in /usr/local/lib/python3.10/dist-packages (from pandas) (2024.2)\n",
            "Requirement already satisfied: tzdata>=2022.7 in /usr/local/lib/python3.10/dist-packages (from pandas) (2024.2)\n",
            "Requirement already satisfied: six>=1.5 in /usr/local/lib/python3.10/dist-packages (from python-dateutil>=2.8.2->pandas) (1.16.0)\n"
          ]
        }
      ]
    },
    {
      "cell_type": "code",
      "execution_count": 5,
      "metadata": {
        "colab": {
          "base_uri": "https://localhost:8080/",
          "height": 1000
        },
        "id": "dCBmf_Xvs4sD",
        "outputId": "44ad4454-d020-4416-fbad-8c99a255b5a1"
      },
      "outputs": [
        {
          "output_type": "stream",
          "name": "stdout",
          "text": [
            "O arquivo será salvo em: /content/temperaturas.csv\n",
            "[30-11-2024 15:56:22] Temperatura atual: -192.28°C\n",
            "[30-11-2024 15:56:26] Temperatura atual: -193.16°C\n",
            "[30-11-2024 15:56:30] ABASTEÇA IMEDIATAMENTE: -184.31°C\n",
            "[30-11-2024 15:56:34] Temperatura atual: -194.91°C\n",
            "[30-11-2024 15:56:38] Temperatura atual: -197.42°C\n",
            "[30-11-2024 15:56:42] Temperatura atual: -193.29°C\n",
            "[30-11-2024 15:56:46] ABASTEÇA IMEDIATAMENTE: -180.57°C\n",
            "[30-11-2024 15:56:50] ATENÇÃO! Abasteça com urgencia: -188.14°C\n",
            "[30-11-2024 15:56:54] Temperatura atual: -191.03°C\n",
            "[30-11-2024 15:56:58] ABASTEÇA IMEDIATAMENTE: -181.06°C\n",
            "[30-11-2024 15:57:02] Temperatura atual: -192.59°C\n",
            "[30-11-2024 15:57:06] ABASTEÇA IMEDIATAMENTE: -183.89°C\n",
            "[30-11-2024 15:57:10] Temperatura atual: -192.03°C\n",
            "[30-11-2024 15:57:14] Temperatura atual: -195.93°C\n",
            "[30-11-2024 15:57:18] ABASTEÇA IMEDIATAMENTE: -183.97°C\n",
            "[30-11-2024 15:57:22] Temperatura atual: -194.26°C\n",
            "[30-11-2024 15:57:26] ATENÇÃO! Abasteça com urgencia: -187.05°C\n",
            "[30-11-2024 15:57:30] ABASTEÇA IMEDIATAMENTE: -181.51°C\n",
            "[30-11-2024 15:57:34] ABASTEÇA IMEDIATAMENTE: -181.82°C\n",
            "[30-11-2024 15:57:38] Temperatura atual: -193.85°C\n",
            "[30-11-2024 15:57:42] Temperatura atual: -195.29°C\n",
            "[30-11-2024 15:57:46] Temperatura atual: -191.03°C\n",
            "[30-11-2024 15:57:50] ALERTA! Temperatura fora do limite: -190.56°C\n",
            "[30-11-2024 15:57:54] ALERTA! Temperatura fora do limite: -190.13°C\n",
            "[30-11-2024 15:57:58] ALERTA! Temperatura fora do limite: -190.44°C\n",
            "[30-11-2024 15:58:02] ALERTA! Temperatura fora do limite: -190.57°C\n",
            "[30-11-2024 15:58:06] Temperatura atual: -191.22°C\n",
            "[30-11-2024 15:58:10] ALERTA! Temperatura fora do limite: -189.94°C\n",
            "[30-11-2024 15:58:14] ATENÇÃO! Abasteça com urgencia: -188.3°C\n",
            "[30-11-2024 15:58:18] Temperatura atual: -195.02°C\n",
            "[30-11-2024 15:58:22] ALERTA! Temperatura fora do limite: -190.4°C\n",
            "[30-11-2024 15:58:26] Temperatura atual: -191.26°C\n",
            "[30-11-2024 15:58:30] ABASTEÇA IMEDIATAMENTE: -180.72°C\n",
            "[30-11-2024 15:58:34] ALERTA! Temperatura fora do limite: -189.09°C\n",
            "[30-11-2024 15:58:38] ABASTEÇA IMEDIATAMENTE: -184.91°C\n",
            "[30-11-2024 15:58:42] Temperatura atual: -192.41°C\n",
            "[30-11-2024 15:58:46] Temperatura atual: -195.37°C\n",
            "[30-11-2024 15:58:50] Temperatura atual: -194.61°C\n",
            "[30-11-2024 15:58:54] ATENÇÃO! Abasteça com urgencia: -188.76°C\n",
            "[30-11-2024 15:58:58] Temperatura atual: -194.79°C\n",
            "[30-11-2024 15:59:02] Temperatura atual: -198.0°C\n",
            "[30-11-2024 15:59:06] ATENÇÃO! Abasteça com urgencia: -188.59°C\n",
            "[30-11-2024 15:59:10] Temperatura atual: -193.74°C\n",
            "[30-11-2024 15:59:14] Temperatura atual: -197.3°C\n",
            "[30-11-2024 15:59:18] ABASTEÇA IMEDIATAMENTE: -184.66°C\n"
          ]
        },
        {
          "output_type": "error",
          "ename": "KeyboardInterrupt",
          "evalue": "",
          "traceback": [
            "\u001b[0;31m---------------------------------------------------------------------------\u001b[0m",
            "\u001b[0;31mKeyboardInterrupt\u001b[0m                         Traceback (most recent call last)",
            "\u001b[0;32m<ipython-input-5-48ba09727311>\u001b[0m in \u001b[0;36m<cell line: 44>\u001b[0;34m()\u001b[0m\n\u001b[1;32m     42\u001b[0m         \u001b[0mtime\u001b[0m\u001b[0;34m.\u001b[0m\u001b[0msleep\u001b[0m\u001b[0;34m(\u001b[0m\u001b[0mintervalo\u001b[0m\u001b[0;34m)\u001b[0m\u001b[0;34m\u001b[0m\u001b[0;34m\u001b[0m\u001b[0m\n\u001b[1;32m     43\u001b[0m \u001b[0;34m\u001b[0m\u001b[0m\n\u001b[0;32m---> 44\u001b[0;31m \u001b[0mmonitor_temperatura\u001b[0m\u001b[0;34m(\u001b[0m\u001b[0mintervalo\u001b[0m\u001b[0;34m,\u001b[0m \u001b[0mlimite_min\u001b[0m\u001b[0;34m,\u001b[0m \u001b[0mlimite_max\u001b[0m\u001b[0;34m)\u001b[0m\u001b[0;34m\u001b[0m\u001b[0;34m\u001b[0m\u001b[0m\n\u001b[0m",
            "\u001b[0;32m<ipython-input-5-48ba09727311>\u001b[0m in \u001b[0;36mmonitor_temperatura\u001b[0;34m(intervalo, limite_min, limite_max)\u001b[0m\n\u001b[1;32m     40\u001b[0m         \u001b[0mdf\u001b[0m\u001b[0;34m.\u001b[0m\u001b[0mto_csv\u001b[0m\u001b[0;34m(\u001b[0m\u001b[0marquivo_csv\u001b[0m\u001b[0;34m,\u001b[0m \u001b[0mindex\u001b[0m\u001b[0;34m=\u001b[0m\u001b[0;32mFalse\u001b[0m\u001b[0;34m)\u001b[0m\u001b[0;34m\u001b[0m\u001b[0;34m\u001b[0m\u001b[0m\n\u001b[1;32m     41\u001b[0m \u001b[0;34m\u001b[0m\u001b[0m\n\u001b[0;32m---> 42\u001b[0;31m         \u001b[0mtime\u001b[0m\u001b[0;34m.\u001b[0m\u001b[0msleep\u001b[0m\u001b[0;34m(\u001b[0m\u001b[0mintervalo\u001b[0m\u001b[0;34m)\u001b[0m\u001b[0;34m\u001b[0m\u001b[0;34m\u001b[0m\u001b[0m\n\u001b[0m\u001b[1;32m     43\u001b[0m \u001b[0;34m\u001b[0m\u001b[0m\n\u001b[1;32m     44\u001b[0m \u001b[0mmonitor_temperatura\u001b[0m\u001b[0;34m(\u001b[0m\u001b[0mintervalo\u001b[0m\u001b[0;34m,\u001b[0m \u001b[0mlimite_min\u001b[0m\u001b[0;34m,\u001b[0m \u001b[0mlimite_max\u001b[0m\u001b[0;34m)\u001b[0m\u001b[0;34m\u001b[0m\u001b[0;34m\u001b[0m\u001b[0m\n",
            "\u001b[0;31mKeyboardInterrupt\u001b[0m: "
          ]
        }
      ],
      "source": [
        "import random\n",
        "import time\n",
        "from datetime import datetime\n",
        "import pandas as pd\n",
        "import os\n",
        "\n",
        "intervalo = 4\n",
        "limite_min = -198\n",
        "limite_max = -192\n",
        "\n",
        "def monitor_temperatura(intervalo, limite_min, limite_max):\n",
        "    # Verificar se o arquivo CSV já existe\n",
        "    arquivo_csv = 'temperaturas.csv'\n",
        "    caminho_absoluto = os.path.abspath(arquivo_csv)\n",
        "    print(f\"O arquivo será salvo em: {caminho_absoluto}\")\n",
        "\n",
        "    if os.path.exists(arquivo_csv):\n",
        "        df = pd.read_csv(arquivo_csv)\n",
        "    else:\n",
        "        df = pd.DataFrame(columns=['Timestamp', 'Temperatura', 'Alerta'])\n",
        "\n",
        "    while True:\n",
        "        temperatura = round(random.uniform(-198, -180), 2)\n",
        "        timestamp = datetime.now().strftime(\"%d-%m-%Y %H:%M:%S\")\n",
        "\n",
        "        if -198 <= temperatura <= -191:\n",
        "            alerta = 'Temperatura atual'\n",
        "        elif -191 <= temperatura <= -189:\n",
        "            alerta = 'ALERTA! Temperatura fora do limite'\n",
        "        elif -189 <= temperatura <= -185:\n",
        "            alerta = 'ATENÇÃO! Abasteça com urgencia'\n",
        "        elif -185 <= temperatura <= -180:\n",
        "            alerta = 'ABASTEÇA IMEDIATAMENTE'\n",
        "\n",
        "        print(f\"[{timestamp}] {alerta}: {temperatura}°C\")\n",
        "\n",
        "        # Adicionar os dados à planilha\n",
        "        new_row = pd.DataFrame({'Timestamp': [timestamp], 'Temperatura': [temperatura], 'Alerta': [alerta]})\n",
        "        df = pd.concat([df, new_row], ignore_index=True)\n",
        "        df.to_csv(arquivo_csv, index=False)\n",
        "\n",
        "        time.sleep(intervalo)\n",
        "\n",
        "monitor_temperatura(intervalo, limite_min, limite_max)\n"
      ]
    }
  ]
}
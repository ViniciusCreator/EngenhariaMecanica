{
  "nbformat": 4,
  "nbformat_minor": 0,
  "metadata": {
    "colab": {
      "provenance": [],
      "authorship_tag": "ABX9TyOkDSxHxb5oszq/JlP39HiO",
      "include_colab_link": true
    },
    "kernelspec": {
      "name": "python3",
      "display_name": "Python 3"
    },
    "language_info": {
      "name": "python"
    }
  },
  "cells": [
    {
      "cell_type": "markdown",
      "metadata": {
        "id": "view-in-github",
        "colab_type": "text"
      },
      "source": [
        "<a href=\"https://colab.research.google.com/github/ViniciusCreator/EngenhariaMecanica/blob/main/Programa01.ipynb\" target=\"_parent\"><img src=\"https://colab.research.google.com/assets/colab-badge.svg\" alt=\"Open In Colab\"/></a>"
      ]
    },
    {
      "cell_type": "markdown",
      "source": [
        "**Primeiro código**"
      ],
      "metadata": {
        "id": "DYv1u0w3H0g-"
      }
    },
    {
      "cell_type": "code",
      "execution_count": 16,
      "metadata": {
        "id": "pWu9nW7S6fQU",
        "colab": {
          "base_uri": "https://localhost:8080/"
        },
        "outputId": "3b7c402e-e2fa-4f33-c6be-58d00107fe05"
      },
      "outputs": [
        {
          "output_type": "stream",
          "name": "stdout",
          "text": [
            "<class 'int'>\n",
            "<class 'float'>\n",
            "<class 'float'>\n",
            "5.1\n"
          ]
        }
      ],
      "source": [
        "#Importancia do tipo de variaveis\n",
        "a = 2\n",
        "print(type(a))\n",
        "b = 3.1\n",
        "print(type(b))\n",
        "soma = a + b\n",
        "print(type(soma))\n",
        "print(soma)\n"
      ]
    },
    {
      "cell_type": "markdown",
      "source": [
        "#Lembrar que sempre que quiser calcular é preciso informar que estou lidando com n° inteiro ou float"
      ],
      "metadata": {
        "id": "NsJuXZSPIodq"
      }
    },
    {
      "cell_type": "markdown",
      "source": [
        "**Segundo código**"
      ],
      "metadata": {
        "id": "kKkm74qpIGSu"
      }
    },
    {
      "cell_type": "code",
      "source": [
        "num = int(input(\"Digite um valor inteiro: \"))\n",
        "print(type(num))\n",
        "quoc = num//2\n",
        "resto = num%2\n",
        "print(quoc)\n",
        "print(resto)\n"
      ],
      "metadata": {
        "id": "GKmTN_2ZIMNH"
      },
      "execution_count": null,
      "outputs": []
    },
    {
      "cell_type": "markdown",
      "source": [
        "**Exercício 01**"
      ],
      "metadata": {
        "id": "MgvvrtLVLEMz"
      }
    },
    {
      "cell_type": "code",
      "source": [
        "b = float(input(\"Digite o valor da base: \"))\n",
        "h = float(input(\"Digite o valor da altura: \"))\n",
        "area = (b*h)/2\n",
        "print(\"A área do triângulo é: \", area)"
      ],
      "metadata": {
        "id": "1zvKhinMK3Iy",
        "outputId": "208c2529-4815-46c6-f2fe-5cb84293c09b",
        "colab": {
          "base_uri": "https://localhost:8080/"
        }
      },
      "execution_count": 22,
      "outputs": [
        {
          "output_type": "stream",
          "name": "stdout",
          "text": [
            "Digite o valor da base: 4\n",
            "Digite o valor da altura: 2\n",
            "A área do triângulo é:  4.0\n"
          ]
        }
      ]
    }
  ]
}
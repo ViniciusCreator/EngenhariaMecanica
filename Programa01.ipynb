{
  "nbformat": 4,
  "nbformat_minor": 0,
  "metadata": {
    "colab": {
      "provenance": [],
      "authorship_tag": "ABX9TyMVFfeasuO4ZpxuK05aeD20",
      "include_colab_link": true
    },
    "kernelspec": {
      "name": "python3",
      "display_name": "Python 3"
    },
    "language_info": {
      "name": "python"
    }
  },
  "cells": [
    {
      "cell_type": "markdown",
      "metadata": {
        "id": "view-in-github",
        "colab_type": "text"
      },
      "source": [
        "<a href=\"https://colab.research.google.com/github/ViniciusCreator/EngenhariaMecanica/blob/main/Programa01.ipynb\" target=\"_parent\"><img src=\"https://colab.research.google.com/assets/colab-badge.svg\" alt=\"Open In Colab\"/></a>"
      ]
    },
    {
      "cell_type": "markdown",
      "source": [
        "**Primeiro código**"
      ],
      "metadata": {
        "id": "DYv1u0w3H0g-"
      }
    },
    {
      "cell_type": "code",
      "execution_count": 16,
      "metadata": {
        "id": "pWu9nW7S6fQU",
        "outputId": "3b7c402e-e2fa-4f33-c6be-58d00107fe05",
        "colab": {
          "base_uri": "https://localhost:8080/"
        }
      },
      "outputs": [
        {
          "output_type": "stream",
          "name": "stdout",
          "text": [
            "<class 'int'>\n",
            "<class 'float'>\n",
            "<class 'float'>\n",
            "5.1\n"
          ]
        }
      ],
      "source": [
        "#Importancia do tipo de variaveis\n",
        "a = 2\n",
        "print(type(a))\n",
        "b = 3.1\n",
        "print(type(b))\n",
        "soma = a + b\n",
        "print(type(soma))\n",
        "print(soma)\n"
      ]
    },
    {
      "cell_type": "markdown",
      "source": [
        "#Lembrar que sempre que quiser calcular é preciso informar que estou lidando com n° inteiro ou float"
      ],
      "metadata": {
        "id": "NsJuXZSPIodq"
      }
    },
    {
      "cell_type": "markdown",
      "source": [
        "**Segundo código**"
      ],
      "metadata": {
        "id": "kKkm74qpIGSu"
      }
    },
    {
      "cell_type": "code",
      "source": [
        "num = int(input(\"Digite um valor inteiro: \"))\n",
        "print(type(num))\n",
        "quoc = num//2\n",
        "resto = num%2\n",
        "print(quoc)\n",
        "print(resto)\n"
      ],
      "metadata": {
        "id": "GKmTN_2ZIMNH"
      },
      "execution_count": null,
      "outputs": []
    }
  ]
}
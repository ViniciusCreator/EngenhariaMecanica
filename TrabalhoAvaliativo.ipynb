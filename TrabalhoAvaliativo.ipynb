{
  "nbformat": 4,
  "nbformat_minor": 0,
  "metadata": {
    "colab": {
      "provenance": [],
      "authorship_tag": "ABX9TyNchIYuQI4z+BUNqR74UQT0",
      "include_colab_link": true
    },
    "kernelspec": {
      "name": "python3",
      "display_name": "Python 3"
    },
    "language_info": {
      "name": "python"
    }
  },
  "cells": [
    {
      "cell_type": "markdown",
      "metadata": {
        "id": "view-in-github",
        "colab_type": "text"
      },
      "source": [
        "<a href=\"https://colab.research.google.com/github/ViniciusCreator/EngenhariaMecanica/blob/main/TrabalhoAvaliativo.ipynb\" target=\"_parent\"><img src=\"https://colab.research.google.com/assets/colab-badge.svg\" alt=\"Open In Colab\"/></a>"
      ]
    },
    {
      "cell_type": "code",
      "source": [
        "import random\n",
        "import time\n",
        "from datetime import datetime\n",
        "import pandas as pd\n",
        "import os\n",
        "\n",
        "intervalo = 4\n",
        "limite_min = -198\n",
        "limite_max = -192\n",
        "\n",
        "def monitor_temperatura(intervalo, limite_min, limite_max):\n",
        "    # Verificar se o arquivo CSV já existe\n",
        "    arquivo_csv = 'temperaturas.csv'\n",
        "    caminho_absoluto = os.path.abspath(arquivo_csv)\n",
        "    print(f\"O arquivo será salvo em: {caminho_absoluto}\")\n",
        "\n",
        "    if os.path.exists(arquivo_csv):\n",
        "        df = pd.read_csv(arquivo_csv)\n",
        "    else:\n",
        "        df = pd.DataFrame(columns=['Data e Hora', 'Temperatura', 'Alerta', 'Resposta do Operador'])\n",
        "\n",
        "    while True:\n",
        "        temperatura = round(random.uniform(-198, -180), 2)\n",
        "        timestamp = datetime.now().strftime(\"%d-%m-%Y %H:%M:%S\")\n",
        "\n",
        "        if -198 <= temperatura <= -191:\n",
        "            alerta = 'Temperatura atual'\n",
        "        elif -191 <= temperatura <= -189:\n",
        "            alerta = 'ALERTA! Temperatura fora do limite'\n",
        "        elif -189 <= temperatura <= -185:\n",
        "            alerta = 'ATENÇÃO! Abasteça com urgencia'\n",
        "        elif -185 <= temperatura <= -180:\n",
        "            alerta = 'ABASTEÇA IMEDIATAMENTE'\n",
        "\n",
        "        print(f\"[{timestamp}] {alerta}: {temperatura}°C\")\n",
        "\n",
        "        resposta_operador = \"\"\n",
        "        if alerta == 'ABASTEÇA IMEDIATAMENTE':\n",
        "            resposta_operador = str(input(\"ALERTA CRÍTICO! Digite a ação tomada pelo operador: \"))\n",
        "\n",
        "        new_row = pd.DataFrame({'Data e Hora': [timestamp],\n",
        "                                'Temperatura': [temperatura],\n",
        "                                'Alerta': [alerta],\n",
        "                                'Resposta do Operador': [resposta_operador]})\n",
        "        df = pd.concat([df, new_row], ignore_index=True)\n",
        "        df.to_csv(arquivo_csv, index=False)\n",
        "\n",
        "        time.sleep(intervalo)\n",
        "\n",
        "monitor_temperatura(intervalo, limite_min, limite_max)\n"
      ],
      "metadata": {
        "id": "qq-Ct9psSLR4"
      },
      "execution_count": null,
      "outputs": []
    }
  ]
}
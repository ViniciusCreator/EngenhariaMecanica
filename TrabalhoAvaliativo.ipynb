{
  "nbformat": 4,
  "nbformat_minor": 0,
  "metadata": {
    "colab": {
      "provenance": [],
      "authorship_tag": "ABX9TyNchIYuQI4z+BUNqR74UQT0",
      "include_colab_link": true
    },
    "kernelspec": {
      "name": "python3",
      "display_name": "Python 3"
    },
    "language_info": {
      "name": "python"
    }
  },
  "cells": [
    {
      "cell_type": "markdown",
      "metadata": {
        "id": "view-in-github",
        "colab_type": "text"
      },
      "source": [
        "<a href=\"https://colab.research.google.com/github/ViniciusCreator/EngenhariaMecanica/blob/main/TrabalhoAvaliativo.ipynb\" target=\"_parent\"><img src=\"https://colab.research.google.com/assets/colab-badge.svg\" alt=\"Open In Colab\"/></a>"
      ]
    },
    {
      "cell_type": "code",
      "source": [
        "import random\n",
        "import time\n",
        "from datetime import datetime\n",
        "import pandas as pd\n",
        "import os\n",
        "\n",
        "intervalo = 4\n",
        "limite_min = -198\n",
        "limite_max = -192\n",
        "\n",
        "def monitor_temperatura(intervalo, limite_min, limite_max):\n",
        "    # Verificar se o arquivo CSV já existe\n",
        "    arquivo_csv = 'temperaturas.csv'\n",
        "    caminho_absoluto = os.path.abspath(arquivo_csv)\n",
        "    print(f\"O arquivo será salvo em: {caminho_absoluto}\")\n",
        "\n",
        "    if os.path.exists(arquivo_csv):\n",
        "        df = pd.read_csv(arquivo_csv)\n",
        "    else:\n",
        "        df = pd.DataFrame(columns=['Data e Hora', 'Temperatura', 'Alerta', 'Resposta do Operador'])\n",
        "\n",
        "    while True:\n",
        "        temperatura = round(random.uniform(-198, -180), 2)\n",
        "        timestamp = datetime.now().strftime(\"%d-%m-%Y %H:%M:%S\")\n",
        "\n",
        "        if -198 <= temperatura <= -191:\n",
        "            alerta = 'Temperatura atual'\n",
        "        elif -191 <= temperatura <= -189:\n",
        "            alerta = 'ALERTA! Temperatura fora do limite'\n",
        "        elif -189 <= temperatura <= -185:\n",
        "            alerta = 'ATENÇÃO! Abasteça com urgencia'\n",
        "        elif -185 <= temperatura <= -180:\n",
        "            alerta = 'ABASTEÇA IMEDIATAMENTE'\n",
        "\n",
        "        print(f\"[{timestamp}] {alerta}: {temperatura}°C\")\n",
        "\n",
        "        resposta_operador = \"\"\n",
        "        if alerta == 'ABASTEÇA IMEDIATAMENTE':\n",
        "            resposta_operador = str(input(\"ALERTA CRÍTICO! Digite a ação tomada pelo operador: \"))\n",
        "\n",
        "        new_row = pd.DataFrame({'Data e Hora': [timestamp],\n",
        "                                'Temperatura': [temperatura],\n",
        "                                'Alerta': [alerta],\n",
        "                                'Resposta do Operador': [resposta_operador]})\n",
        "        df = pd.concat([df, new_row], ignore_index=True)\n",
        "        df.to_csv(arquivo_csv, index=False)\n",
        "\n",
        "        time.sleep(intervalo)\n",
        "\n",
        "monitor_temperatura(intervalo, limite_min, limite_max)\n"
      ],
      "metadata": {
        "colab": {
          "base_uri": "https://localhost:8080/",
          "height": 356
        },
        "id": "qq-Ct9psSLR4",
        "outputId": "173116a6-e31f-408e-c87d-1b8e12250ebf"
      },
      "execution_count": 5,
      "outputs": [
        {
          "output_type": "stream",
          "name": "stdout",
          "text": [
            "O arquivo será salvo em: /content/temperaturas.csv\n",
            "[02-12-2024 23:02:38] ABASTEÇA IMEDIATAMENTE: -180.56°C\n"
          ]
        },
        {
          "output_type": "error",
          "ename": "KeyboardInterrupt",
          "evalue": "Interrupted by user",
          "traceback": [
            "\u001b[0;31m---------------------------------------------------------------------------\u001b[0m",
            "\u001b[0;31mKeyboardInterrupt\u001b[0m                         Traceback (most recent call last)",
            "\u001b[0;32m<ipython-input-5-90ce1fa4faf6>\u001b[0m in \u001b[0;36m<cell line: 50>\u001b[0;34m()\u001b[0m\n\u001b[1;32m     48\u001b[0m         \u001b[0mtime\u001b[0m\u001b[0;34m.\u001b[0m\u001b[0msleep\u001b[0m\u001b[0;34m(\u001b[0m\u001b[0mintervalo\u001b[0m\u001b[0;34m)\u001b[0m\u001b[0;34m\u001b[0m\u001b[0;34m\u001b[0m\u001b[0m\n\u001b[1;32m     49\u001b[0m \u001b[0;34m\u001b[0m\u001b[0m\n\u001b[0;32m---> 50\u001b[0;31m \u001b[0mmonitor_temperatura\u001b[0m\u001b[0;34m(\u001b[0m\u001b[0mintervalo\u001b[0m\u001b[0;34m,\u001b[0m \u001b[0mlimite_min\u001b[0m\u001b[0;34m,\u001b[0m \u001b[0mlimite_max\u001b[0m\u001b[0;34m)\u001b[0m\u001b[0;34m\u001b[0m\u001b[0;34m\u001b[0m\u001b[0m\n\u001b[0m",
            "\u001b[0;32m<ipython-input-5-90ce1fa4faf6>\u001b[0m in \u001b[0;36mmonitor_temperatura\u001b[0;34m(intervalo, limite_min, limite_max)\u001b[0m\n\u001b[1;32m     37\u001b[0m         \u001b[0mresposta_operador\u001b[0m \u001b[0;34m=\u001b[0m \u001b[0;34m\"\"\u001b[0m\u001b[0;34m\u001b[0m\u001b[0;34m\u001b[0m\u001b[0m\n\u001b[1;32m     38\u001b[0m         \u001b[0;32mif\u001b[0m \u001b[0malerta\u001b[0m \u001b[0;34m==\u001b[0m \u001b[0;34m'ABASTEÇA IMEDIATAMENTE'\u001b[0m\u001b[0;34m:\u001b[0m\u001b[0;34m\u001b[0m\u001b[0;34m\u001b[0m\u001b[0m\n\u001b[0;32m---> 39\u001b[0;31m             \u001b[0mresposta_operador\u001b[0m \u001b[0;34m=\u001b[0m \u001b[0mstr\u001b[0m\u001b[0;34m(\u001b[0m\u001b[0minput\u001b[0m\u001b[0;34m(\u001b[0m\u001b[0;34m\"ALERTA CRÍTICO! Digite a ação tomada pelo operador: \"\u001b[0m\u001b[0;34m)\u001b[0m\u001b[0;34m)\u001b[0m\u001b[0;34m\u001b[0m\u001b[0;34m\u001b[0m\u001b[0m\n\u001b[0m\u001b[1;32m     40\u001b[0m \u001b[0;34m\u001b[0m\u001b[0m\n\u001b[1;32m     41\u001b[0m         new_row = pd.DataFrame({'Data e Hora': [timestamp], \n",
            "\u001b[0;32m/usr/local/lib/python3.10/dist-packages/ipykernel/kernelbase.py\u001b[0m in \u001b[0;36mraw_input\u001b[0;34m(self, prompt)\u001b[0m\n\u001b[1;32m    849\u001b[0m                 \u001b[0;34m\"raw_input was called, but this frontend does not support input requests.\"\u001b[0m\u001b[0;34m\u001b[0m\u001b[0;34m\u001b[0m\u001b[0m\n\u001b[1;32m    850\u001b[0m             )\n\u001b[0;32m--> 851\u001b[0;31m         return self._input_request(str(prompt),\n\u001b[0m\u001b[1;32m    852\u001b[0m             \u001b[0mself\u001b[0m\u001b[0;34m.\u001b[0m\u001b[0m_parent_ident\u001b[0m\u001b[0;34m,\u001b[0m\u001b[0;34m\u001b[0m\u001b[0;34m\u001b[0m\u001b[0m\n\u001b[1;32m    853\u001b[0m             \u001b[0mself\u001b[0m\u001b[0;34m.\u001b[0m\u001b[0m_parent_header\u001b[0m\u001b[0;34m,\u001b[0m\u001b[0;34m\u001b[0m\u001b[0;34m\u001b[0m\u001b[0m\n",
            "\u001b[0;32m/usr/local/lib/python3.10/dist-packages/ipykernel/kernelbase.py\u001b[0m in \u001b[0;36m_input_request\u001b[0;34m(self, prompt, ident, parent, password)\u001b[0m\n\u001b[1;32m    893\u001b[0m             \u001b[0;32mexcept\u001b[0m \u001b[0mKeyboardInterrupt\u001b[0m\u001b[0;34m:\u001b[0m\u001b[0;34m\u001b[0m\u001b[0;34m\u001b[0m\u001b[0m\n\u001b[1;32m    894\u001b[0m                 \u001b[0;31m# re-raise KeyboardInterrupt, to truncate traceback\u001b[0m\u001b[0;34m\u001b[0m\u001b[0;34m\u001b[0m\u001b[0m\n\u001b[0;32m--> 895\u001b[0;31m                 \u001b[0;32mraise\u001b[0m \u001b[0mKeyboardInterrupt\u001b[0m\u001b[0;34m(\u001b[0m\u001b[0;34m\"Interrupted by user\"\u001b[0m\u001b[0;34m)\u001b[0m \u001b[0;32mfrom\u001b[0m \u001b[0;32mNone\u001b[0m\u001b[0;34m\u001b[0m\u001b[0;34m\u001b[0m\u001b[0m\n\u001b[0m\u001b[1;32m    896\u001b[0m             \u001b[0;32mexcept\u001b[0m \u001b[0mException\u001b[0m \u001b[0;32mas\u001b[0m \u001b[0me\u001b[0m\u001b[0;34m:\u001b[0m\u001b[0;34m\u001b[0m\u001b[0;34m\u001b[0m\u001b[0m\n\u001b[1;32m    897\u001b[0m                 \u001b[0mself\u001b[0m\u001b[0;34m.\u001b[0m\u001b[0mlog\u001b[0m\u001b[0;34m.\u001b[0m\u001b[0mwarning\u001b[0m\u001b[0;34m(\u001b[0m\u001b[0;34m\"Invalid Message:\"\u001b[0m\u001b[0;34m,\u001b[0m \u001b[0mexc_info\u001b[0m\u001b[0;34m=\u001b[0m\u001b[0;32mTrue\u001b[0m\u001b[0;34m)\u001b[0m\u001b[0;34m\u001b[0m\u001b[0;34m\u001b[0m\u001b[0m\n",
            "\u001b[0;31mKeyboardInterrupt\u001b[0m: Interrupted by user"
          ]
        }
      ]
    }
  ]
}
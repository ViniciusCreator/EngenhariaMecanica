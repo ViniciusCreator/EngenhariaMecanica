{
  "nbformat": 4,
  "nbformat_minor": 0,
  "metadata": {
    "colab": {
      "provenance": [],
      "authorship_tag": "ABX9TyNuhxtfSAgqJix6Scn0fPgo",
      "include_colab_link": true
    },
    "kernelspec": {
      "name": "python3",
      "display_name": "Python 3"
    },
    "language_info": {
      "name": "python"
    }
  },
  "cells": [
    {
      "cell_type": "markdown",
      "metadata": {
        "id": "view-in-github",
        "colab_type": "text"
      },
      "source": [
        "<a href=\"https://colab.research.google.com/github/ViniciusCreator/EngenhariaMecanica/blob/main/Programa03.ipynb\" target=\"_parent\"><img src=\"https://colab.research.google.com/assets/colab-badge.svg\" alt=\"Open In Colab\"/></a>"
      ]
    },
    {
      "cell_type": "markdown",
      "source": [
        "# Exemplo 01"
      ],
      "metadata": {
        "id": "OBrE-PwH--n7"
      }
    },
    {
      "cell_type": "code",
      "execution_count": 3,
      "metadata": {
        "id": "63_yjBs68t9F",
        "colab": {
          "base_uri": "https://localhost:8080/"
        },
        "outputId": "f52590ea-fa0e-42b0-c137-3bc451343659"
      },
      "outputs": [
        {
          "output_type": "stream",
          "name": "stdout",
          "text": [
            "Digite um número inteiro: 9999999999999999998\n",
            "O número 9999999999999999998 é par.\n"
          ]
        }
      ],
      "source": [
        "n1 = int(input(\"Digite um número inteiro: \"))\n",
        "\n",
        "if n1 % 2 == 0:\n",
        "    print(f\"O número {n1} é par.\")\n",
        "else:\n",
        "    print(f\"O número {n1} é ímpar.\")"
      ]
    },
    {
      "cell_type": "markdown",
      "source": [
        "# Exercício 01"
      ],
      "metadata": {
        "id": "Z3lascRUM7Eb"
      }
    },
    {
      "cell_type": "code",
      "source": [
        "import math\n",
        "\n",
        "n1 = float(input(\"Digite um número: \"))\n",
        "\n",
        "if n1 >= 0:\n",
        "  raiz_quadrada = math.sqrt(n1)\n",
        "  print(f\"A raiz quadrada de {n1} é {raiz_quadrada:.2f}.\")\n",
        "else:\n",
        "  print(\"Não existe raiz real para este número!\")"
      ],
      "metadata": {
        "colab": {
          "base_uri": "https://localhost:8080/"
        },
        "id": "1V_wmN_oNC1t",
        "outputId": "b56d169c-a42e-484a-c44e-4aed01c11ee8"
      },
      "execution_count": 9,
      "outputs": [
        {
          "output_type": "stream",
          "name": "stdout",
          "text": [
            "Digite um número: 9\n",
            "A raiz quadrada de 9.0 é 3.0.\n"
          ]
        }
      ]
    },
    {
      "cell_type": "markdown",
      "source": [
        "# Exercício 02"
      ],
      "metadata": {
        "id": "EVNqdMXhQASq"
      }
    },
    {
      "cell_type": "code",
      "source": [
        "comprimento = float(input(\"Digite o comprimento da camiseta em centímetros: \"))\n",
        "largura = float(input(\"Digite a largura da camiseta em centímetros: \"))\n",
        "\n",
        "if comprimento <= 60 and largura <= 45:\n",
        "  tamanho = \"pp\"\n",
        "elif comprimento <= 65 and largura <= 48:\n",
        "  tamanho = \"P\"\n",
        "elif comprimento <= 70 and largura <= 51:\n",
        "  tamanho = \"M\"\n",
        "elif comprimento <= 75 and largura <= 54:\n",
        "  tamanho = \"G\"\n",
        "elif comprimento <= 80 and largura <= 57:\n",
        "  tamanho = \"GG\"\n",
        "else:\n",
        "  tamanho = \"XGG\"\n",
        "\n",
        "print(f\"O tamanho da camiseta é {tamanho}\")"
      ],
      "metadata": {
        "colab": {
          "base_uri": "https://localhost:8080/"
        },
        "id": "SXjTi3WnQEEL",
        "outputId": "8f53d256-b119-4e5e-9b7a-14d45dbfe8c4"
      },
      "execution_count": 11,
      "outputs": [
        {
          "output_type": "stream",
          "name": "stdout",
          "text": [
            "Digite o comprimento da camiseta em centímetros: 80\n",
            "Digite a largura da camiseta em centímetros: 60\n",
            "O tamanho da camiseta é XGG\n"
          ]
        }
      ]
    }
  ]
}
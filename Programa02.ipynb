{
  "nbformat": 4,
  "nbformat_minor": 0,
  "metadata": {
    "colab": {
      "provenance": [],
      "authorship_tag": "ABX9TyMZYB8T7Rp06VCgbxz2vjeZ",
      "include_colab_link": true
    },
    "kernelspec": {
      "name": "python3",
      "display_name": "Python 3"
    },
    "language_info": {
      "name": "python"
    }
  },
  "cells": [
    {
      "cell_type": "markdown",
      "metadata": {
        "id": "view-in-github",
        "colab_type": "text"
      },
      "source": [
        "<a href=\"https://colab.research.google.com/github/ViniciusCreator/EngenhariaMecanica/blob/main/Programa02.ipynb\" target=\"_parent\"><img src=\"https://colab.research.google.com/assets/colab-badge.svg\" alt=\"Open In Colab\"/></a>"
      ]
    },
    {
      "cell_type": "markdown",
      "source": [
        "# Exercício 02"
      ],
      "metadata": {
        "id": "9scY5eYm-noa"
      }
    },
    {
      "cell_type": "code",
      "execution_count": 1,
      "metadata": {
        "colab": {
          "base_uri": "https://localhost:8080/"
        },
        "id": "SrZ2NJGA-dGi",
        "outputId": "e60c91ff-4c24-471b-fc6e-4d2db1f90c92"
      },
      "outputs": [
        {
          "output_type": "stream",
          "name": "stdout",
          "text": [
            "Digite um valor de polegada: 2\n",
            "Valor de Polegadas em mm é igual a :  50.8\n"
          ]
        }
      ],
      "source": [
        "p = float(input(\"Digite um valor de polegada: \"))\n",
        "mm = p * 25.4\n",
        "print(\"Valor de Polegadas em mm é igual a : \",mm)"
      ]
    },
    {
      "cell_type": "markdown",
      "source": [
        "# Exercício 05:\n",
        "\n",
        "**Volume de uma esfera:** Ve = (3.14 x r³) / 3\n",
        "\n",
        "\n",
        "---\n",
        "\n",
        "Narrativa -\n",
        "\n",
        "Pseudocódigo -\n",
        "\n",
        "Fluxograma -\n",
        "\n",
        "\n"
      ],
      "metadata": {
        "id": "t_6Cg2Zm_KZd"
      }
    },
    {
      "cell_type": "code",
      "source": [
        "from math import pi\n",
        "\n",
        "r = float(input(\"Digite o valor do raio: \"))\n",
        "ve = (pi * r**3) / 3\n",
        "\n",
        "print(\"O volume da esfera é igual a: \",ve)\n"
      ],
      "metadata": {
        "colab": {
          "base_uri": "https://localhost:8080/"
        },
        "id": "2jt_YnyE_NNd",
        "outputId": "02ea496e-37de-49d2-bf97-ba2feb1eb48b"
      },
      "execution_count": 8,
      "outputs": [
        {
          "output_type": "stream",
          "name": "stdout",
          "text": [
            "Digite o valor do raio: 2\n",
            "O volume da esfera é igual a:  8.377580409572781\n"
          ]
        }
      ]
    },
    {
      "cell_type": "markdown",
      "source": [
        "# Exercício 06:\n",
        "\n",
        "**Grau para radiano:** R = (Grau x 3,14) / 180\n",
        "\n",
        "---\n",
        "\n",
        "Narrativa -\n",
        "\n",
        "Pseudocódigo -\n",
        "\n",
        "Fluxograma -"
      ],
      "metadata": {
        "id": "GxNWyoGeCcor"
      }
    },
    {
      "cell_type": "code",
      "source": [
        "from math import pi\n",
        "\n",
        "g = float(input(\"Digite o valor do grau: \"))\n",
        "r = (g * pi) / 180\n",
        "\n",
        "print(\"O valor do radiano é igual a: \",r)"
      ],
      "metadata": {
        "colab": {
          "base_uri": "https://localhost:8080/"
        },
        "id": "VxEtY3XiDcjC",
        "outputId": "49c469cf-b5e2-4fc0-99b2-9caa8483e63f"
      },
      "execution_count": 6,
      "outputs": [
        {
          "output_type": "stream",
          "name": "stdout",
          "text": [
            "Digite o valor do grau: 69\n",
            "O valor do radiano é igual a:  1.2036666666666667\n"
          ]
        }
      ]
    },
    {
      "cell_type": "markdown",
      "source": [
        "# Exercício 07:\n",
        "\n",
        "**Ângulo radiano para graus:** G = (Radiano x 180) / 3.14\n",
        "\n",
        "---\n",
        "\n",
        "Narrativa -\n",
        "\n",
        "Pseudocódigo -\n",
        "\n",
        "Fluxograma -"
      ],
      "metadata": {
        "id": "4jBlBvMwERd3"
      }
    },
    {
      "cell_type": "code",
      "source": [
        "from math import pi\n",
        "\n",
        "r = float(input(\"Digite o valor do radiano: \"))\n",
        "g = (r * 180) / pi\n",
        "\n",
        "print(\"O valor do grau é igual a: \",g)"
      ],
      "metadata": {
        "colab": {
          "base_uri": "https://localhost:8080/"
        },
        "id": "ADZkF27_EwbR",
        "outputId": "b8c938ae-53b9-4b1c-c5ab-9e15f07b5086"
      },
      "execution_count": 9,
      "outputs": [
        {
          "output_type": "stream",
          "name": "stdout",
          "text": [
            "Digite o valor do radiano: 2\n",
            "O valor do grau é igual a:  114.59155902616465\n"
          ]
        }
      ]
    },
    {
      "cell_type": "markdown",
      "source": [
        "# Exercício 08:\n",
        "\n",
        "**Ângulo radiano para grados:**\n",
        "\n",
        "---\n",
        "\n",
        "Narrativa -\n",
        "\n",
        "Pseudocódigo -\n",
        "\n",
        "Fluxograma -\n"
      ],
      "metadata": {
        "id": "PpGCmrUBFxbA"
      }
    },
    {
      "cell_type": "code",
      "source": [],
      "metadata": {
        "id": "STR7HLwOHifT"
      },
      "execution_count": null,
      "outputs": []
    }
  ]
}